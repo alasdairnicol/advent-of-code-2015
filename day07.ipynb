{
 "cells": [
  {
   "cell_type": "code",
   "execution_count": 56,
   "metadata": {},
   "outputs": [],
   "source": [
    "lines = \"\"\"123 -> x\n",
    "456 -> y\n",
    "x AND y -> d\n",
    "x OR y -> e\n",
    "x LSHIFT 2 -> f\n",
    "y RSHIFT 2 -> g\n",
    "NOT x -> h\n",
    "NOT y -> i\"\"\".split(\"\\n\")"
   ]
  },
  {
   "cell_type": "code",
   "execution_count": 57,
   "metadata": {},
   "outputs": [],
   "source": [
    "lines = open(\"day07.txt\").readlines()"
   ]
  },
  {
   "cell_type": "code",
   "execution_count": 58,
   "metadata": {},
   "outputs": [],
   "source": [
    "def parse_line(line):\n",
    "    inputs, output = line.strip().split(' -> ')\n",
    "    words = inputs.split()\n",
    "    if len(words) == 1:\n",
    "        return \"VAL\", (words[0],), output\n",
    "    elif len(words) == 2:\n",
    "        assert words[0] == \"NOT\"\n",
    "        return \"NOT\", (words[1],), output\n",
    "    else:\n",
    "        assert words[1] in [\"AND\", \"OR\", \"LSHIFT\", \"RSHIFT\"]\n",
    "        return words[1], (words[0], words[2],), output \n",
    "\n"
   ]
  },
  {
   "cell_type": "code",
   "execution_count": 59,
   "metadata": {},
   "outputs": [],
   "source": [
    "instructions = [parse_line(line) for line in lines]"
   ]
  },
  {
   "cell_type": "code",
   "execution_count": 60,
   "metadata": {},
   "outputs": [],
   "source": [
    "def NOT(words):\n",
    "    return words[0] ^ 65535\n",
    "\n",
    "def AND(words):\n",
    "    return words[0] & words[1]\n",
    "\n",
    "def OR(words):\n",
    "    return words[0] | words[1]\n",
    "\n",
    "def LSHIFT(words):\n",
    "    return words[0] << words[1]\n",
    "\n",
    "def RSHIFT(words):\n",
    "    return words[0] >> words[1]\n",
    "\n",
    "def VAL(words):\n",
    "    return words[0]"
   ]
  },
  {
   "cell_type": "code",
   "execution_count": 61,
   "metadata": {},
   "outputs": [],
   "source": [
    "def get_val(val):\n",
    "    try:\n",
    "        return int(val)\n",
    "    except ValueError:\n",
    "        return outputs.get(val)"
   ]
  },
  {
   "cell_type": "code",
   "execution_count": 62,
   "metadata": {},
   "outputs": [],
   "source": [
    "outputs = {}"
   ]
  },
  {
   "cell_type": "code",
   "execution_count": 63,
   "metadata": {},
   "outputs": [],
   "source": [
    "while \"a\" not in outputs:\n",
    "    for instruction_name, words, output in instructions:\n",
    "        if output in outputs:\n",
    "            continue\n",
    "        inputs = tuple(get_val(word) for word in words)\n",
    "        if None in inputs:\n",
    "            # can't evaluate yet\n",
    "            continue\n",
    "\n",
    "        if instruction_name == \"VAL\":\n",
    "            outputs[output] = VAL(inputs)\n",
    "        if instruction_name == \"NOT\":\n",
    "            outputs[output] = NOT(inputs)\n",
    "        elif instruction_name == \"AND\":\n",
    "            outputs[output] = AND(inputs)\n",
    "        elif instruction_name == \"OR\":\n",
    "            outputs[output] = OR(inputs)\n",
    "        elif instruction_name == \"LSHIFT\":\n",
    "            outputs[output] = LSHIFT(inputs)\n",
    "        elif instruction_name == \"RSHIFT\":\n",
    "            outputs[output] = RSHIFT(inputs)\n",
    "\n",
    "\n"
   ]
  },
  {
   "cell_type": "code",
   "execution_count": 64,
   "metadata": {},
   "outputs": [
    {
     "data": {
      "text/plain": [
       "16076"
      ]
     },
     "execution_count": 64,
     "metadata": {},
     "output_type": "execute_result"
    }
   ],
   "source": [
    "outputs['a']"
   ]
  },
  {
   "cell_type": "code",
   "execution_count": 65,
   "metadata": {},
   "outputs": [],
   "source": [
    "outputs = {'b': 16076}"
   ]
  },
  {
   "cell_type": "code",
   "execution_count": 66,
   "metadata": {},
   "outputs": [],
   "source": [
    "while \"a\" not in outputs:\n",
    "    for instruction_name, words, output in instructions:\n",
    "        if output in outputs:\n",
    "            continue\n",
    "        inputs = tuple(get_val(word) for word in words)\n",
    "        if None in inputs:\n",
    "            # can't evaluate yet\n",
    "            continue\n",
    "\n",
    "        if instruction_name == \"VAL\":\n",
    "            outputs[output] = VAL(inputs)\n",
    "        if instruction_name == \"NOT\":\n",
    "            outputs[output] = NOT(inputs)\n",
    "        elif instruction_name == \"AND\":\n",
    "            outputs[output] = AND(inputs)\n",
    "        elif instruction_name == \"OR\":\n",
    "            outputs[output] = OR(inputs)\n",
    "        elif instruction_name == \"LSHIFT\":\n",
    "            outputs[output] = LSHIFT(inputs)\n",
    "        elif instruction_name == \"RSHIFT\":\n",
    "            outputs[output] = RSHIFT(inputs)\n"
   ]
  },
  {
   "cell_type": "code",
   "execution_count": 67,
   "metadata": {},
   "outputs": [
    {
     "data": {
      "text/plain": [
       "2797"
      ]
     },
     "execution_count": 67,
     "metadata": {},
     "output_type": "execute_result"
    }
   ],
   "source": [
    "outputs['a']"
   ]
  },
  {
   "cell_type": "code",
   "execution_count": null,
   "metadata": {},
   "outputs": [],
   "source": []
  }
 ],
 "metadata": {
  "kernelspec": {
   "display_name": ".venv",
   "language": "python",
   "name": "python3"
  },
  "language_info": {
   "codemirror_mode": {
    "name": "ipython",
    "version": 3
   },
   "file_extension": ".py",
   "mimetype": "text/x-python",
   "name": "python",
   "nbconvert_exporter": "python",
   "pygments_lexer": "ipython3",
   "version": "3.13.0"
  }
 },
 "nbformat": 4,
 "nbformat_minor": 2
}
